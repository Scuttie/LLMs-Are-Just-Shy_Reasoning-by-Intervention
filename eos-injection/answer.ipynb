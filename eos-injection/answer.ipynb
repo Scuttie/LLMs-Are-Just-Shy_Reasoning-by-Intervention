{
 "cells": [
  {
   "cell_type": "code",
   "execution_count": 4,
   "metadata": {
    "colab": {
     "base_uri": "https://localhost:8080/"
    },
    "executionInfo": {
     "elapsed": 3242,
     "status": "ok",
     "timestamp": 1737446101148,
     "user": {
      "displayName": "­진현빈 / 학생 / 데이터사이언스학과",
      "userId": "04449470590878054386"
     },
     "user_tz": -540
    },
    "id": "B-kC_mB-YpSp",
    "outputId": "d0d03d46-5968-4d2a-f046-15fda406ad6b"
   },
   "outputs": [
    {
     "name": "stdout",
     "output_type": "stream",
     "text": [
      "Drive already mounted at /content/drive; to attempt to forcibly remount, call drive.mount(\"/content/drive\", force_remount=True).\n"
     ]
    }
   ],
   "source": [
    "from google.colab import drive\n",
    "drive.mount('/content/drive')"
   ]
  },
  {
   "cell_type": "code",
   "execution_count": null,
   "metadata": {
    "colab": {
     "base_uri": "https://localhost:8080/",
     "height": 544
    },
    "collapsed": true,
    "executionInfo": {
     "elapsed": 4500,
     "status": "ok",
     "timestamp": 1737444395834,
     "user": {
      "displayName": "­진현빈 / 학생 / 데이터사이언스학과",
      "userId": "04449470590878054386"
     },
     "user_tz": -540
    },
    "id": "nA-8BNCDYlwk",
    "outputId": "5ddd0d2c-72b9-4e6e-b57b-67a1f2cdd410"
   },
   "outputs": [
    {
     "name": "stdout",
     "output_type": "stream",
     "text": [
      "Collecting openai==0.28\n",
      "  Downloading openai-0.28.0-py3-none-any.whl.metadata (13 kB)\n",
      "Requirement already satisfied: requests>=2.20 in /usr/local/lib/python3.11/dist-packages (from openai==0.28) (2.32.3)\n",
      "Requirement already satisfied: tqdm in /usr/local/lib/python3.11/dist-packages (from openai==0.28) (4.67.1)\n",
      "Requirement already satisfied: aiohttp in /usr/local/lib/python3.11/dist-packages (from openai==0.28) (3.11.11)\n",
      "Requirement already satisfied: charset-normalizer<4,>=2 in /usr/local/lib/python3.11/dist-packages (from requests>=2.20->openai==0.28) (3.4.1)\n",
      "Requirement already satisfied: idna<4,>=2.5 in /usr/local/lib/python3.11/dist-packages (from requests>=2.20->openai==0.28) (3.10)\n",
      "Requirement already satisfied: urllib3<3,>=1.21.1 in /usr/local/lib/python3.11/dist-packages (from requests>=2.20->openai==0.28) (2.3.0)\n",
      "Requirement already satisfied: certifi>=2017.4.17 in /usr/local/lib/python3.11/dist-packages (from requests>=2.20->openai==0.28) (2024.12.14)\n",
      "Requirement already satisfied: aiohappyeyeballs>=2.3.0 in /usr/local/lib/python3.11/dist-packages (from aiohttp->openai==0.28) (2.4.4)\n",
      "Requirement already satisfied: aiosignal>=1.1.2 in /usr/local/lib/python3.11/dist-packages (from aiohttp->openai==0.28) (1.3.2)\n",
      "Requirement already satisfied: attrs>=17.3.0 in /usr/local/lib/python3.11/dist-packages (from aiohttp->openai==0.28) (24.3.0)\n",
      "Requirement already satisfied: frozenlist>=1.1.1 in /usr/local/lib/python3.11/dist-packages (from aiohttp->openai==0.28) (1.5.0)\n",
      "Requirement already satisfied: multidict<7.0,>=4.5 in /usr/local/lib/python3.11/dist-packages (from aiohttp->openai==0.28) (6.1.0)\n",
      "Requirement already satisfied: propcache>=0.2.0 in /usr/local/lib/python3.11/dist-packages (from aiohttp->openai==0.28) (0.2.1)\n",
      "Requirement already satisfied: yarl<2.0,>=1.17.0 in /usr/local/lib/python3.11/dist-packages (from aiohttp->openai==0.28) (1.18.3)\n",
      "Downloading openai-0.28.0-py3-none-any.whl (76 kB)\n",
      "\u001b[?25l   \u001b[90m━━━━━━━━━━━━━━━━━━━━━━━━━━━━━━━━━━━━━━━━\u001b[0m \u001b[32m0.0/76.5 kB\u001b[0m \u001b[31m?\u001b[0m eta \u001b[36m-:--:--\u001b[0m\r\u001b[2K   \u001b[90m━━━━━━━━━━━━━━━━━━━━━━━━━━━━━━━━━━━━━━━━\u001b[0m \u001b[32m76.5/76.5 kB\u001b[0m \u001b[31m2.1 MB/s\u001b[0m eta \u001b[36m0:00:00\u001b[0m\n",
      "\u001b[?25hInstalling collected packages: openai\n",
      "  Attempting uninstall: openai\n",
      "    Found existing installation: openai 1.59.6\n",
      "    Uninstalling openai-1.59.6:\n",
      "      Successfully uninstalled openai-1.59.6\n",
      "Successfully installed openai-0.28.0\n"
     ]
    },
    {
     "data": {
      "application/vnd.colab-display-data+json": {
       "id": "c3e2cc1170154fee88893bc3c5ec0feb",
       "pip_warning": {
        "packages": [
         "openai"
        ]
       }
      }
     },
     "metadata": {},
     "output_type": "display_data"
    }
   ],
   "source": [
    "pip install openai==0.28"
   ]
  },
  {
   "cell_type": "code",
   "execution_count": 7,
   "metadata": {
    "executionInfo": {
     "elapsed": 338,
     "status": "ok",
     "timestamp": 1737446226570,
     "user": {
      "displayName": "­진현빈 / 학생 / 데이터사이언스학과",
      "userId": "04449470590878054386"
     },
     "user_tz": -540
    },
    "id": "acPHEDEdYlwf"
   },
   "outputs": [],
   "source": [
    "import pandas as pd\n",
    "from tqdm import tqdm\n",
    "import openai\n",
    "\n",
    "def judge_correctness_with_api(row, llm):\n",
    "    \"\"\"\n",
    "    GPT API를 사용하여 generated-answer와 answer 비교.\n",
    "    \"\"\"\n",
    "    chat_history = [\n",
    "        {\n",
    "            \"role\": \"system\",\n",
    "            \"content\": (\n",
    "                \"You are a helpful assistant. \"\n",
    "                \"The generated answer includes reasoning, and the answer is contained within the reasoning. \"\n",
    "                \"Your task is to extract the answer from the reasoning and compare it to the correct answer. \"\n",
    "                \"If they are identical or convey the same meaning, respond with 'correct'. \"\n",
    "                \"If they are different, respond with 'wrong'.\"\n",
    "            )\n",
    "        },\n",
    "        {\n",
    "            \"role\": \"user\",\n",
    "            \"content\": (\n",
    "                f\"Correct Answer: {row['Answer']}\\n\"\n",
    "                f\"Generated Answer: {row['Generated-Answer']}\\n\\n\"\n",
    "                \"Are the two answers identical or convey the same meaning?\"\n",
    "            )\n",
    "        }\n",
    "    ]\n",
    "\n",
    "    response = llm.ChatCompletion.create(\n",
    "        model=\"gpt-4o\",\n",
    "        messages=chat_history,\n",
    "        temperature=0.7\n",
    "    )\n",
    "    return response.choices[0].message.content.strip().lower()\n",
    "\n",
    "\n",
    "def evaluate_answers(input_csv, llm, output_csv=None):\n",
    "    \"\"\"\n",
    "    CSV 파일에서 answer와 generated-answer 비교하여 정답 여부 판단.\n",
    "    결과를 새로운 DataFrame으로 저장하고, 정답/오답 수와 목록 출력.\n",
    "    \"\"\"\n",
    "    df = pd.read_csv(input_csv)\n",
    "\n",
    "    results = []\n",
    "\n",
    "    for _, row in tqdm(df.iterrows(), total=len(df)):\n",
    "        correctness = judge_correctness_with_api(row, llm)\n",
    "        results.append(correctness)\n",
    "\n",
    "    df['Correctness'] = results\n",
    "\n",
    "    correct_df = df[df['Correctness'] == 'correct']\n",
    "    incorrect_df = df[df['Correctness'] == 'wrong']\n",
    "\n",
    "    correct_count = len(correct_df)\n",
    "    incorrect_count = len(incorrect_df)\n",
    "\n",
    "    print(f\"Correct: {correct_count}, Wrong: {incorrect_count}\")\n",
    "    print(\"\\nCorrect Problems:\\n\", correct_df[['Question', 'Answer', 'Generated-Answer']])\n",
    "    print(\"\\nWrong Problems:\\n\", incorrect_df[['Question', 'Answer', 'Generated-Answer']])\n",
    "\n",
    "    # 결과 저장 (선택 사항)\n",
    "    if output_csv:\n",
    "        df.to_csv(output_csv, index=False, encoding='utf-8')\n",
    "\n",
    "    return df, correct_df, incorrect_df"
   ]
  },
  {
   "cell_type": "code",
   "execution_count": 8,
   "metadata": {
    "colab": {
     "base_uri": "https://localhost:8080/"
    },
    "collapsed": true,
    "executionInfo": {
     "elapsed": 53357,
     "status": "ok",
     "timestamp": 1737446297689,
     "user": {
      "displayName": "­진현빈 / 학생 / 데이터사이언스학과",
      "userId": "04449470590878054386"
     },
     "user_tz": -540
    },
    "id": "3ZS9JcDtYlwj",
    "outputId": "59397216-310e-44c6-942e-a077cea8e625"
   },
   "outputs": [
    {
     "name": "stderr",
     "output_type": "stream",
     "text": [
      "100%|██████████| 100/100 [00:52<00:00,  1.91it/s]"
     ]
    },
    {
     "name": "stdout",
     "output_type": "stream",
     "text": [
      "Correct: 27, Wrong: 72\n",
      "\n",
      "Correct Problems:\n",
      "                                              Question  Answer  \\\n",
      "0   Janet’s ducks lay 16 eggs per day. She eats th...      18   \n",
      "1   A robe takes 2 bolts of blue fiber and half th...       3   \n",
      "4   Every day, Wendi feeds each of her chickens th...      20   \n",
      "9   Eliza's rate per hour for the first 40 hours s...     460   \n",
      "15  A merchant wants to make a choice of purchase ...     125   \n",
      "17  Jill gets paid $20 per hour to teach and $30 t...   57500   \n",
      "27  Cynthia eats one serving of ice cream every ni...      16   \n",
      "28  Henry made two stops during his 60-mile bike t...      25   \n",
      "31  Gunter is trying to count the jelly beans in a...      80   \n",
      "33  Gretchen has 110 coins. There are 30 more gold...      70   \n",
      "43  According to its nutritional info, a bag of ch...      48   \n",
      "53  A mechanic charges different rates to repair t...      40   \n",
      "57  A wooden bridge can carry no more than 5000 po...      83   \n",
      "58  Stephen placed an online order for groceries. ...      57   \n",
      "59  A raspberry bush has 6 clusters of 20 fruit ea...     187   \n",
      "61  Janet buys a brooch for her daughter.  She pay...    1430   \n",
      "69  Bailey starts with a certain amount of money. ...      60   \n",
      "74  Artie has a flower stand at the Farmers Market...      88   \n",
      "76  Cecilia just bought a new puppy. According to ...       5   \n",
      "77  If Raymond does half as much laundry as Sarah,...     100   \n",
      "79  John adopts a dog.  He takes the dog to the gr...      70   \n",
      "82  Grace weighs 125 pounds. Alex weighs 2 pounds ...     623   \n",
      "83  Dan plants 3 rose bushes. Each rose bush has 2...     600   \n",
      "84  A football team played 22 games. They won 8 mo...      15   \n",
      "88  Marilyn's first record sold 10 times as many c...    8000   \n",
      "90  Ted the T-Rex was planning to bring potato sal...     225   \n",
      "96  Harry slept 9 hours last night. His friend Jam...       3   \n",
      "\n",
      "                                     Generated-Answer  \n",
      "0   Step 1: First, we need to find the number of e...  \n",
      "1   (Hint: 2x + x = 3x)\\nStep 1:  Let x be the num...  \n",
      "4   Step 1:  Let x be the number of cups of feed W...  \n",
      "9   (Round your answer to the nearest cent.)\\n  1....  \n",
      "15  Step 1: Calculate the expected value of the je...  \n",
      "17  Round to the nearest dollar.\\n  1. 50 weeks * ...  \n",
      "27  How many cartons will she buy?\\nLet x be the n...  \n",
      "28  A. 15 B. 20 C. 25 D. 35\\nHenry made two stops ...  \n",
      "31  Step 1: Let x be the number of jelly beans in ...  \n",
      "33  A. 30 B. 40 C. 50 D. 60\\nGretchen has 110 coin...  \n",
      "43  (Round your answer to the nearest whole number...  \n",
      "53  Step 1:  Let x be the number of truck tires re...  \n",
      "57  Step 1: The weight of the truck and driver is ...  \n",
      "58  Step 1: 25% of $40.00 is $10.00.  $40.00 + $10...  \n",
      "59  A. 127 B. 147 C. 167 D. 187\\nA raspberry bush ...  \n",
      "61  Step 1: 500 + 800 = 1300Step 2: 1300 x 0.10 = ...  \n",
      "69  Step 1: Let x be the amount of money Bailey st...  \n",
      "74  Step 1:Round the prices of the flowers to the ...  \n",
      "76  Step 1: Find the number of days in the first y...  \n",
      "77  A. 200 pounds B. 100 pounds C. 50 pounds D. 25...  \n",
      "79  Step 1: 30% of 100 is 30.  100 - 30 = 70.  The...  \n",
      "82  A. 250 B. 125 C. 500 D. 750\\nGrace weighs 125 ...  \n",
      "83  A. 600 B. 60 C. 6 D. 0.6\\nDan plants 3 rose bu...  \n",
      "84  How many did they lose?\\n  1. Let x be the num...  \n",
      "88  (Hint: Let x = the number of copies Harald sol...  \n",
      "90  Step 1: 20 adults will eat 20*10 = 200 lbs of ...  \n",
      "96  A. 1/3 B. 2/3 C. 4/3 D. 5/3\\nHarry slept 9 hou...  \n",
      "\n",
      "Wrong Problems:\n",
      "                                              Question  Answer  \\\n",
      "2   Josh decides to try flipping a house.  He buys...   70000   \n",
      "3   James decides to run 3 sprints 3 times a week....     540   \n",
      "5   Kylar went to the store to buy glasses for his...      64   \n",
      "6   Toulouse has twice as many sheep as Charleston...     260   \n",
      "7   Carla is downloading a 200 GB file. Normally s...     160   \n",
      "..                                                ...     ...   \n",
      "94  In a neighborhood, the number of rabbits pets ...     348   \n",
      "95  Out of the 200 Grade 5 students, 2/5 are boys ...      40   \n",
      "97  When Freda cooks canned tomatoes into sauce, t...      12   \n",
      "98  Cars have lined up on the motorway. Some of th...       5   \n",
      "99  Mary is an avid gardener. Yesterday, she recei...      58   \n",
      "\n",
      "                                     Generated-Answer  \n",
      "2   Step 1:  Calculate the value of the house afte...  \n",
      "3   Step 1: 60 meters x 3 sprints x 3 times a week...  \n",
      "5   Step 1: Find the cost of one glass. Step 2: Fi...  \n",
      "6   A. 60 B. 80 C. 100 D. 120\\nToulouse has twice ...  \n",
      "7   Step 1 of 3:Let us assume that Carla can downl...  \n",
      "..                                                ...  \n",
      "94  A. 120 B. 140 C. 160 D. 180 E. 200\\nIn a neigh...  \n",
      "95  A. 20 B. 40 C. 60 D. 80\\nOut of the 200 Grade ...  \n",
      "97  (Hint: 1 ounce = 1/16 of a pound)\\n  1. 32 oun...  \n",
      "98  Step 1: Let x be the number of cars that drove...  \n",
      "99  Step 1: Identify the given information. Mary h...  \n",
      "\n",
      "[72 rows x 3 columns]\n"
     ]
    },
    {
     "name": "stderr",
     "output_type": "stream",
     "text": [
      "\n"
     ]
    }
   ],
   "source": [
    "# Example Usage\n",
    "input_csv = \"/content/drive/MyDrive/fold/sole-step-once-injection.csv\"  \n",
    "output_csv = \"./sole-step-once-results.csv\" \n",
    "openai.api_key = \"\" \n",
    "\n",
    "# 평가 수행\n",
    "df, correct_df, incorrect_df = evaluate_answers(input_csv, openai, output_csv)"
   ]
  },
  {
   "cell_type": "code",
   "execution_count": null,
   "metadata": {
    "id": "-9HidxaxZkdO"
   },
   "outputs": [],
   "source": []
  }
 ],
 "metadata": {
  "colab": {
   "provenance": []
  },
  "kernelspec": {
   "display_name": "base",
   "language": "python",
   "name": "python3"
  },
  "language_info": {
   "codemirror_mode": {
    "name": "ipython",
    "version": 3
   },
   "file_extension": ".py",
   "mimetype": "text/x-python",
   "name": "python",
   "nbconvert_exporter": "python",
   "pygments_lexer": "ipython3",
   "version": "3.8.8"
  }
 },
 "nbformat": 4,
 "nbformat_minor": 0
}
